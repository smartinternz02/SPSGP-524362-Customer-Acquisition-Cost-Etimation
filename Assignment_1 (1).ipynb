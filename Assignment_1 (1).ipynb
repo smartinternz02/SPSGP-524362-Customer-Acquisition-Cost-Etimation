{
 "cells": [
  {
   "cell_type": "markdown",
   "id": "251352c0-d104-4ab5-97f2-c45e18688414",
   "metadata": {},
   "source": [
    "<center>ASSIGNMENT 1 - Bhavya Nagpal (VIT)</center>\n",
    "<style>\n",
    "    .rendered_html p {\n",
    "        font-size: 30px;\n",
    "        text-align:center;\n",
    "    }\n",
    "</style>\n"
   ]
  },
  {
   "cell_type": "markdown",
   "id": "3edcd3af-c108-4d27-9d6d-ab6ffc4c1eab",
   "metadata": {},
   "source": [
    "Question 1"
   ]
  },
  {
   "cell_type": "code",
   "execution_count": 5,
   "id": "d97f7e3f-7e25-4aa1-91a7-ff042158d15f",
   "metadata": {},
   "outputs": [
    {
     "name": "stdout",
     "output_type": "stream",
     "text": [
      "Bhavya Nagpal 21\n"
     ]
    }
   ],
   "source": [
    "name=\"Bhavya Nagpal\"\n",
    "age=21\n",
    "print(name,age)"
   ]
  },
  {
   "cell_type": "markdown",
   "id": "b3967d9d-71e5-479c-8486-b2d744cd4a85",
   "metadata": {},
   "source": [
    "-------"
   ]
  },
  {
   "cell_type": "markdown",
   "id": "627f3195-9798-4eaa-ac3e-40df1f3a498e",
   "metadata": {},
   "source": [
    "Question 2"
   ]
  },
  {
   "cell_type": "code",
   "execution_count": 7,
   "id": "fa236900-f650-43ea-932d-cc498c151a25",
   "metadata": {},
   "outputs": [
    {
     "name": "stdout",
     "output_type": "stream",
     "text": [
      "['Datascience', 'is', 'used', 'to', 'extract', 'meaningful', 'insights.']\n"
     ]
    }
   ],
   "source": [
    "X=\"Datascience is used to extract meaningful insights.\"\n",
    "print(X.split(\" \"))"
   ]
  },
  {
   "cell_type": "markdown",
   "id": "4f848e6e-3797-4229-b478-004817a51820",
   "metadata": {},
   "source": [
    "------"
   ]
  },
  {
   "cell_type": "markdown",
   "id": "639fee87-0863-4c41-8e95-e7c7ab3352c3",
   "metadata": {},
   "source": [
    "Question 3"
   ]
  },
  {
   "cell_type": "code",
   "execution_count": 8,
   "id": "45d79d31-b216-423f-9811-ecfdf182aa60",
   "metadata": {
    "tags": []
   },
   "outputs": [
    {
     "name": "stdout",
     "output_type": "stream",
     "text": [
      "15\n"
     ]
    }
   ],
   "source": [
    "def multiplication(a,b):\n",
    "    return a*b\n",
    "result=multiplication(3,5)\n",
    "print(result)"
   ]
  },
  {
   "cell_type": "markdown",
   "id": "d88d7079-735a-4fe3-bdfb-e5ce322fb762",
   "metadata": {},
   "source": [
    "-------"
   ]
  },
  {
   "cell_type": "markdown",
   "id": "1310fb86-2728-41a1-b42a-4034d37add14",
   "metadata": {},
   "source": [
    "Question 4"
   ]
  },
  {
   "cell_type": "code",
   "execution_count": 18,
   "id": "804c8885-86e8-4e69-af68-e4e298257f78",
   "metadata": {},
   "outputs": [
    {
     "name": "stdout",
     "output_type": "stream",
     "text": [
      "dict_keys(['Karnataka', 'Maharashtra', 'Tamil Nadu', 'Punjab', 'Rajasthan'])\n",
      "dict_values(['Bengaluru', 'Mumbai', 'Chennai', 'Chandigarh', 'Jaipur'])\n"
     ]
    }
   ],
   "source": [
    "States={'Karnataka':'Bengaluru',\n",
    "        'Maharashtra':'Mumbai',\n",
    "        'Tamil Nadu':'Chennai',\n",
    "        'Punjab':'Chandigarh',\n",
    "        'Rajasthan':'Jaipur'}\n",
    "print(States.keys())\n",
    "print(States.values())"
   ]
  },
  {
   "cell_type": "markdown",
   "id": "f98e5d20-87bb-47ae-953c-da6ab8c9ed49",
   "metadata": {},
   "source": [
    "-------"
   ]
  },
  {
   "cell_type": "markdown",
   "id": "7119e576-90d6-442d-9498-e3f1fb022549",
   "metadata": {},
   "source": [
    "Question 5"
   ]
  },
  {
   "cell_type": "code",
   "execution_count": 14,
   "id": "9ee7a5fa-f4a8-4ca4-bf7b-76bb1c9d5b96",
   "metadata": {},
   "outputs": [
    {
     "name": "stdout",
     "output_type": "stream",
     "text": [
      "[1, 101, 201, 301, 401, 501, 601, 701, 801, 901]\n"
     ]
    }
   ],
   "source": [
    "numbers=list(range(1,1001))\n",
    "print(numbers[::100])"
   ]
  },
  {
   "cell_type": "markdown",
   "id": "b45a6f46-f31d-4edb-ae1e-aadff154baeb",
   "metadata": {},
   "source": [
    "------"
   ]
  },
  {
   "cell_type": "markdown",
   "id": "6c4cd4eb-3e4f-44bb-8f54-bb23540a05cd",
   "metadata": {},
   "source": [
    "Question 6"
   ]
  },
  {
   "cell_type": "code",
   "execution_count": 21,
   "id": "e4964f02-942e-4294-9588-7435271fa264",
   "metadata": {},
   "outputs": [
    {
     "name": "stdout",
     "output_type": "stream",
     "text": [
      "[[1. 0. 0. 0.]\n",
      " [0. 1. 0. 0.]\n",
      " [0. 0. 1. 0.]\n",
      " [0. 0. 0. 1.]]\n"
     ]
    }
   ],
   "source": [
    "import numpy as np\n",
    "matrix=np.eye(4)\n",
    "print(matrix)"
   ]
  },
  {
   "cell_type": "markdown",
   "id": "8d1c047a-e038-441f-b619-9b8aa07e6579",
   "metadata": {},
   "source": [
    "-------"
   ]
  },
  {
   "cell_type": "markdown",
   "id": "8109bb30-c5b9-49c3-b8dd-e0a5a3a3a686",
   "metadata": {},
   "source": [
    "Question 7"
   ]
  },
  {
   "cell_type": "code",
   "execution_count": 26,
   "id": "e87098f5-9c83-467d-8e0e-d06dc588b823",
   "metadata": {},
   "outputs": [
    {
     "name": "stdout",
     "output_type": "stream",
     "text": [
      "[[1 2 3]\n",
      " [4 5 6]\n",
      " [7 8 9]]\n"
     ]
    }
   ],
   "source": [
    "matrix=np.arange(1,10).reshape(3,3)\n",
    "print(matrix)"
   ]
  },
  {
   "cell_type": "markdown",
   "id": "806fc472-9bba-4c0f-8ad3-0eddcb69a6e3",
   "metadata": {},
   "source": [
    "-------"
   ]
  },
  {
   "cell_type": "markdown",
   "id": "e072eba4-2b59-4b80-9879-33b394a40629",
   "metadata": {},
   "source": [
    "Question 8"
   ]
  },
  {
   "cell_type": "code",
   "execution_count": 28,
   "id": "35144258-eaf3-4ad9-a1da-c9fca301580f",
   "metadata": {},
   "outputs": [
    {
     "name": "stdout",
     "output_type": "stream",
     "text": [
      "[[5 5 5]\n",
      " [5 5 5]]\n"
     ]
    }
   ],
   "source": [
    "array1=np.array([[1,2,3],[4,5,6]])\n",
    "array2=np.array([[4,3,2],[1,0,-1]])\n",
    "print(array1+array2)"
   ]
  },
  {
   "cell_type": "markdown",
   "id": "2b324c5e-9710-467a-ba7e-5561e1cea04e",
   "metadata": {},
   "source": [
    "-------"
   ]
  },
  {
   "cell_type": "markdown",
   "id": "0c6df35c-37e7-4bea-98e4-8f2b7c241834",
   "metadata": {},
   "source": [
    "Question 9"
   ]
  },
  {
   "cell_type": "code",
   "execution_count": 30,
   "id": "f7cdadc7-f59a-4aba-93c7-2fa8401d22c1",
   "metadata": {},
   "outputs": [
    {
     "name": "stdout",
     "output_type": "stream",
     "text": [
      "DatetimeIndex(['2023-02-01', '2023-02-02', '2023-02-03', '2023-02-04',\n",
      "               '2023-02-05', '2023-02-06', '2023-02-07', '2023-02-08',\n",
      "               '2023-02-09', '2023-02-10', '2023-02-11', '2023-02-12',\n",
      "               '2023-02-13', '2023-02-14', '2023-02-15', '2023-02-16',\n",
      "               '2023-02-17', '2023-02-18', '2023-02-19', '2023-02-20',\n",
      "               '2023-02-21', '2023-02-22', '2023-02-23', '2023-02-24',\n",
      "               '2023-02-25', '2023-02-26', '2023-02-27', '2023-02-28',\n",
      "               '2023-03-01'],\n",
      "              dtype='datetime64[ns]', freq='D')\n"
     ]
    }
   ],
   "source": [
    "import pandas as pd\n",
    "start_date = '2023-02-01'\n",
    "end_date = '2023-03-01'\n",
    "date_series = pd.date_range(start=start_date, end=end_date, freq='D')\n",
    "print(date_series)"
   ]
  },
  {
   "cell_type": "markdown",
   "id": "e4f24e54-6871-479d-965d-d344de4349d1",
   "metadata": {},
   "source": [
    "------"
   ]
  },
  {
   "cell_type": "markdown",
   "id": "0bef0fd9-4f73-4efd-8ed3-9918889cdab2",
   "metadata": {},
   "source": [
    "Question 10"
   ]
  },
  {
   "cell_type": "code",
   "execution_count": 31,
   "id": "02244979-bd97-42f7-9860-7a4b313000ec",
   "metadata": {},
   "outputs": [
    {
     "name": "stdout",
     "output_type": "stream",
     "text": [
      "     Brand  Sales\n",
      "0   Maruti    250\n",
      "1  Renault    200\n",
      "2   Hyndai    240\n"
     ]
    }
   ],
   "source": [
    "dictionary = {'Brand': ['Maruti', 'Renault', 'Hyndai'], 'Sales' : [250, 200, 240]}\n",
    "fr=pd.DataFrame(dictionary)\n",
    "print(fr)"
   ]
  },
  {
   "cell_type": "markdown",
   "id": "a6a67a5e-5ff6-48f2-9dd1-4b3978ae5791",
   "metadata": {},
   "source": [
    "-------"
   ]
  },
  {
   "cell_type": "markdown",
   "id": "646b4ae9-e62a-4dc6-9d15-1af6b3d55fc6",
   "metadata": {},
   "source": [
    "<center>xxxx</center>"
   ]
  },
  {
   "cell_type": "code",
   "execution_count": null,
   "id": "004d740a-d22f-4e9b-90c5-163cde877b6a",
   "metadata": {},
   "outputs": [],
   "source": []
  }
 ],
 "metadata": {
  "kernelspec": {
   "display_name": "Python 3 (ipykernel)",
   "language": "python",
   "name": "python3"
  },
  "language_info": {
   "codemirror_mode": {
    "name": "ipython",
    "version": 3
   },
   "file_extension": ".py",
   "mimetype": "text/x-python",
   "name": "python",
   "nbconvert_exporter": "python",
   "pygments_lexer": "ipython3",
   "version": "3.9.7"
  }
 },
 "nbformat": 4,
 "nbformat_minor": 5
}
