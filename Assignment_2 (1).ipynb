{
 "cells": [
  {
   "cell_type": "markdown",
   "id": "82b1d4f0",
   "metadata": {},
   "source": [
    "<center>ASSIGNMENT 2 - Bhavya Nagpal (VIT)</center>\n",
    "<style>\n",
    "    .rendered_html p {\n",
    "        font-size: 30px;\n",
    "        text-align:center;\n",
    "    }\n",
    "</style>"
   ]
  },
  {
   "cell_type": "code",
   "execution_count": 3,
   "id": "da689b97",
   "metadata": {},
   "outputs": [],
   "source": [
    "import numpy as np\n",
    "import pandas as pd\n",
    "import matplotlib.pyplot as plt\n",
    "import seaborn as sns"
   ]
  },
  {
   "cell_type": "markdown",
   "id": "5187dced",
   "metadata": {},
   "source": [
    "1. Download the Dataset"
   ]
  },
  {
   "cell_type": "markdown",
   "id": "5ec09f27",
   "metadata": {},
   "source": [
    "----"
   ]
  },
  {
   "cell_type": "markdown",
   "id": "62c3ba29",
   "metadata": {},
   "source": [
    "2. Laod the Dataset"
   ]
  },
  {
   "cell_type": "code",
   "execution_count": 4,
   "id": "37b02da2",
   "metadata": {},
   "outputs": [
    {
     "data": {
      "text/html": [
       "<div>\n",
       "<style scoped>\n",
       "    .dataframe tbody tr th:only-of-type {\n",
       "        vertical-align: middle;\n",
       "    }\n",
       "\n",
       "    .dataframe tbody tr th {\n",
       "        vertical-align: top;\n",
       "    }\n",
       "\n",
       "    .dataframe thead th {\n",
       "        text-align: right;\n",
       "    }\n",
       "</style>\n",
       "<table border=\"1\" class=\"dataframe\">\n",
       "  <thead>\n",
       "    <tr style=\"text-align: right;\">\n",
       "      <th></th>\n",
       "      <th>survived</th>\n",
       "      <th>pclass</th>\n",
       "      <th>sex</th>\n",
       "      <th>age</th>\n",
       "      <th>sibsp</th>\n",
       "      <th>parch</th>\n",
       "      <th>fare</th>\n",
       "      <th>embarked</th>\n",
       "      <th>class</th>\n",
       "      <th>who</th>\n",
       "      <th>adult_male</th>\n",
       "      <th>deck</th>\n",
       "      <th>embark_town</th>\n",
       "      <th>alive</th>\n",
       "      <th>alone</th>\n",
       "    </tr>\n",
       "  </thead>\n",
       "  <tbody>\n",
       "    <tr>\n",
       "      <th>0</th>\n",
       "      <td>0</td>\n",
       "      <td>3</td>\n",
       "      <td>male</td>\n",
       "      <td>22.0</td>\n",
       "      <td>1</td>\n",
       "      <td>0</td>\n",
       "      <td>7.2500</td>\n",
       "      <td>S</td>\n",
       "      <td>Third</td>\n",
       "      <td>man</td>\n",
       "      <td>True</td>\n",
       "      <td>NaN</td>\n",
       "      <td>Southampton</td>\n",
       "      <td>no</td>\n",
       "      <td>False</td>\n",
       "    </tr>\n",
       "    <tr>\n",
       "      <th>1</th>\n",
       "      <td>1</td>\n",
       "      <td>1</td>\n",
       "      <td>female</td>\n",
       "      <td>38.0</td>\n",
       "      <td>1</td>\n",
       "      <td>0</td>\n",
       "      <td>71.2833</td>\n",
       "      <td>C</td>\n",
       "      <td>First</td>\n",
       "      <td>woman</td>\n",
       "      <td>False</td>\n",
       "      <td>C</td>\n",
       "      <td>Cherbourg</td>\n",
       "      <td>yes</td>\n",
       "      <td>False</td>\n",
       "    </tr>\n",
       "    <tr>\n",
       "      <th>2</th>\n",
       "      <td>1</td>\n",
       "      <td>3</td>\n",
       "      <td>female</td>\n",
       "      <td>26.0</td>\n",
       "      <td>0</td>\n",
       "      <td>0</td>\n",
       "      <td>7.9250</td>\n",
       "      <td>S</td>\n",
       "      <td>Third</td>\n",
       "      <td>woman</td>\n",
       "      <td>False</td>\n",
       "      <td>NaN</td>\n",
       "      <td>Southampton</td>\n",
       "      <td>yes</td>\n",
       "      <td>True</td>\n",
       "    </tr>\n",
       "    <tr>\n",
       "      <th>3</th>\n",
       "      <td>1</td>\n",
       "      <td>1</td>\n",
       "      <td>female</td>\n",
       "      <td>35.0</td>\n",
       "      <td>1</td>\n",
       "      <td>0</td>\n",
       "      <td>53.1000</td>\n",
       "      <td>S</td>\n",
       "      <td>First</td>\n",
       "      <td>woman</td>\n",
       "      <td>False</td>\n",
       "      <td>C</td>\n",
       "      <td>Southampton</td>\n",
       "      <td>yes</td>\n",
       "      <td>False</td>\n",
       "    </tr>\n",
       "    <tr>\n",
       "      <th>4</th>\n",
       "      <td>0</td>\n",
       "      <td>3</td>\n",
       "      <td>male</td>\n",
       "      <td>35.0</td>\n",
       "      <td>0</td>\n",
       "      <td>0</td>\n",
       "      <td>8.0500</td>\n",
       "      <td>S</td>\n",
       "      <td>Third</td>\n",
       "      <td>man</td>\n",
       "      <td>True</td>\n",
       "      <td>NaN</td>\n",
       "      <td>Southampton</td>\n",
       "      <td>no</td>\n",
       "      <td>True</td>\n",
       "    </tr>\n",
       "  </tbody>\n",
       "</table>\n",
       "</div>"
      ],
      "text/plain": [
       "   survived  pclass     sex   age  sibsp  parch     fare embarked  class  \\\n",
       "0         0       3    male  22.0      1      0   7.2500        S  Third   \n",
       "1         1       1  female  38.0      1      0  71.2833        C  First   \n",
       "2         1       3  female  26.0      0      0   7.9250        S  Third   \n",
       "3         1       1  female  35.0      1      0  53.1000        S  First   \n",
       "4         0       3    male  35.0      0      0   8.0500        S  Third   \n",
       "\n",
       "     who  adult_male deck  embark_town alive  alone  \n",
       "0    man        True  NaN  Southampton    no  False  \n",
       "1  woman       False    C    Cherbourg   yes  False  \n",
       "2  woman       False  NaN  Southampton   yes   True  \n",
       "3  woman       False    C  Southampton   yes  False  \n",
       "4    man        True  NaN  Southampton    no   True  "
      ]
     },
     "execution_count": 4,
     "metadata": {},
     "output_type": "execute_result"
    }
   ],
   "source": [
    "data=pd.read_csv(\"titanic.csv\")\n",
    "data.head()"
   ]
  },
  {
   "cell_type": "markdown",
   "id": "c8bc5612",
   "metadata": {},
   "source": [
    "----"
   ]
  },
  {
   "cell_type": "markdown",
   "id": "531f6d05",
   "metadata": {},
   "source": [
    "3. Perform Visualizations"
   ]
  },
  {
   "cell_type": "markdown",
   "id": "cb4e139a",
   "metadata": {},
   "source": [
    "         - Univariate Analysis"
   ]
  },
  {
   "cell_type": "code",
   "execution_count": 77,
   "id": "29dbbd8d",
   "metadata": {},
   "outputs": [
    {
     "name": "stdout",
     "output_type": "stream",
     "text": [
      "Summary Statistics:\n",
      " count    891.000000\n",
      "mean      29.699118\n",
      "std       13.002015\n",
      "min        0.420000\n",
      "25%       22.000000\n",
      "50%       29.699118\n",
      "75%       35.000000\n",
      "max       80.000000\n",
      "Name: age, dtype: float64\n"
     ]
    },
    {
     "data": {
      "image/png": "[encoded data removed]",
      "text/plain": [
       "<Figure size 432x288 with 1 Axes>"
      ]
     },
     "metadata": {
      "needs_background": "light"
     },
     "output_type": "display_data"
    },
    {
     "data": {
      "image/png": "[encoded data removed]",
      "text/plain": [
       "<Figure size 432x288 with 1 Axes>"
      ]
     },
     "metadata": {
      "needs_background": "light"
     },
     "output_type": "display_data"
    }
   ],
   "source": [
    "column = 'age'\n",
    "\n",
    "summary_stats = data[column].describe()\n",
    "print(\"Summary Statistics:\\n\", summary_stats)\n",
    "\n",
    "data[column].hist()\n",
    "plt.xlabel(column)\n",
    "plt.ylabel(\"Frequency\")\n",
    "plt.title(\"Histogram of \" + column)\n",
    "plt.show()\n",
    "\n",
    "data.boxplot(column=column)\n",
    "plt.ylabel(column)\n",
    "plt.title(\"Box plot of \" + column)\n",
    "plt.show()"
   ]
  },
  {
   "cell_type": "markdown",
   "id": "7cf72c20",
   "metadata": {},
   "source": [
    "            - Bivariate Analysis"
   ]
  },
  {
   "cell_type": "code",
   "execution_count": 78,
   "id": "f7a37c1b",
   "metadata": {},
   "outputs": [
    {
     "data": {
      "image/png": "[encoded data removed]",
      "text/plain": [
       "<Figure size 432x288 with 1 Axes>"
      ]
     },
     "metadata": {
      "needs_background": "light"
     },
     "output_type": "display_data"
    },
    {
     "data": {
      "image/png": "[encoded data removed]",
      "text/plain": [
       "<Figure size 432x288 with 1 Axes>"
      ]
     },
     "metadata": {
      "needs_background": "light"
     },
     "output_type": "display_data"
    },
    {
     "data": {
      "image/png": "[encoded data removed]",
      "text/plain": [
       "<Figure size 432x288 with 1 Axes>"
      ]
     },
     "metadata": {
      "needs_background": "light"
     },
     "output_type": "display_data"
    }
   ],
   "source": [
    "variable1 = 'age'\n",
    "variable2 = 'fare'\n",
    "\n",
    "sns.scatterplot(x=variable1, y=variable2, data=data)\n",
    "plt.title(\"Scatter Plot: {} vs {}\".format(variable1, variable2))\n",
    "plt.show()\n",
    "\n",
    "sns.boxplot(x='alive', y=variable1, data=data)\n",
    "plt.title(\"Box Plot: {} by Age\".format('Alive'))\n",
    "plt.show()\n",
    "\n",
    "sns.countplot(x='alive', hue='sex', data=data)\n",
    "plt.title(\"Count Plot: Alive by Sex\")\n",
    "plt.show()"
   ]
  },
  {
   "cell_type": "markdown",
   "id": "096919ae",
   "metadata": {},
   "source": [
    "            - Multivariate Analysis"
   ]
  },
  {
   "cell_type": "code",
   "execution_count": 79,
   "id": "5f2db13e",
   "metadata": {},
   "outputs": [
    {
     "data": {
      "image/png": "[encoded data removed]",
      "text/plain": [
       "<Figure size 432x288 with 2 Axes>"
      ]
     },
     "metadata": {
      "needs_background": "light"
     },
     "output_type": "display_data"
    },
    {
     "data": {
      "image/png": "[encoded data removed]",
      "text/plain": [
       "<Figure size 593.25x540 with 12 Axes>"
      ]
     },
     "metadata": {
      "needs_background": "light"
     },
     "output_type": "display_data"
    },
    {
     "data": {
      "image/png": "[encoded data removed]",
      "text/plain": [
       "<Figure size 432x288 with 1 Axes>"
      ]
     },
     "metadata": {
      "needs_background": "light"
     },
     "output_type": "display_data"
    },
    {
     "data": {
      "image/png": "[encoded data removed]",
      "text/plain": [
       "<Figure size 432x288 with 1 Axes>"
      ]
     },
     "metadata": {
      "needs_background": "light"
     },
     "output_type": "display_data"
    },
    {
     "data": {
      "image/png": "[encoded data removed]",
      "text/plain": [
       "<Figure size 432x288 with 1 Axes>"
      ]
     },
     "metadata": {
      "needs_background": "light"
     },
     "output_type": "display_data"
    }
   ],
   "source": [
    "variables = ['age', 'fare', 'pclass', 'alive']\n",
    "\n",
    "correlation_matrix = data[variables].corr()\n",
    "\n",
    "sns.heatmap(correlation_matrix, annot=True, cmap='coolwarm', square=True)\n",
    "plt.title(\"Correlation Matrix\")\n",
    "plt.show()\n",
    "\n",
    "sns.pairplot(data[variables], hue='alive')\n",
    "plt.show()\n",
    "\n",
    "for variable in variables[:-1]:\n",
    "    sns.boxplot(x='alive', y=variable, data=data)\n",
    "    plt.title(\"Box plot of \" + variable + \" by Alive\")\n",
    "    plt.show()"
   ]
  },
  {
   "cell_type": "markdown",
   "id": "00c943f8",
   "metadata": {},
   "source": [
    "----"
   ]
  },
  {
   "cell_type": "markdown",
   "id": "50a6d929",
   "metadata": {},
   "source": [
    "4. Perform Descriptive Statistics on the Dataset"
   ]
  },
  {
   "cell_type": "code",
   "execution_count": 8,
   "id": "fe0a51dc",
   "metadata": {},
   "outputs": [
    {
     "name": "stdout",
     "output_type": "stream",
     "text": [
      "         survived      pclass         age       sibsp       parch        fare\n",
      "count  891.000000  891.000000  714.000000  891.000000  891.000000  891.000000\n",
      "mean     0.383838    2.308642   29.699118    0.523008    0.381594   32.204208\n",
      "std      0.486592    0.836071   14.526497    1.102743    0.806057   49.693429\n",
      "min      0.000000    1.000000    0.420000    0.000000    0.000000    0.000000\n",
      "25%      0.000000    2.000000   20.125000    0.000000    0.000000    7.910400\n",
      "50%      0.000000    3.000000   28.000000    0.000000    0.000000   14.454200\n",
      "75%      1.000000    3.000000   38.000000    1.000000    0.000000   31.000000\n",
      "max      1.000000    3.000000   80.000000    8.000000    6.000000  512.329200\n"
     ]
    }
   ],
   "source": [
    "statistics = data.describe()\n",
    "print(statistics)"
   ]
  },
  {
   "cell_type": "markdown",
   "id": "3db929a4",
   "metadata": {},
   "source": [
    "----"
   ]
  },
  {
   "cell_type": "markdown",
   "id": "0000c964",
   "metadata": {},
   "source": [
    "5. Handle Missing Values"
   ]
  },
  {
   "cell_type": "code",
   "execution_count": 80,
   "id": "296e9370",
   "metadata": {},
   "outputs": [
    {
     "name": "stdout",
     "output_type": "stream",
     "text": [
      "survived       0\n",
      "pclass         0\n",
      "sex            0\n",
      "age            0\n",
      "sibsp          0\n",
      "parch          0\n",
      "fare           0\n",
      "embarked       0\n",
      "class          0\n",
      "who            0\n",
      "adult_male     0\n",
      "embark_town    2\n",
      "alive          0\n",
      "alone          0\n",
      "dtype: int64\n"
     ]
    }
   ],
   "source": [
    "missing_values = data.isnull().sum()\n",
    "print(missing_values)"
   ]
  },
  {
   "cell_type": "code",
   "execution_count": 82,
   "id": "7befb3ca",
   "metadata": {},
   "outputs": [],
   "source": [
    "data['age'].fillna(data['age'].mean(), inplace=True)\n",
    "data['embarked'].fillna(data['embarked'].mode()[0], inplace=True)"
   ]
  },
  {
   "cell_type": "markdown",
   "id": "d064e917",
   "metadata": {},
   "source": [
    "----"
   ]
  },
  {
   "cell_type": "markdown",
   "id": "f041baab",
   "metadata": {},
   "source": [
    "6. Find and Replace Outliers"
   ]
  },
  {
   "cell_type": "code",
   "execution_count": 83,
   "id": "7408a3fe",
   "metadata": {},
   "outputs": [
    {
     "name": "stdout",
     "output_type": "stream",
     "text": [
      "Outliers in age: \n",
      "     survived  pclass     sex    age  sibsp  parch     fare embarked   class  \\\n",
      "7           0       3    male   2.00      3      1  21.0750        S   Third   \n",
      "11          1       1  female  58.00      0      0  26.5500        S   First   \n",
      "15          1       2  female  55.00      0      0  16.0000        S  Second   \n",
      "16          0       3    male   2.00      4      1  29.1250        Q   Third   \n",
      "33          0       2    male  66.00      0      0  10.5000        S  Second   \n",
      "..        ...     ...     ...    ...    ...    ...      ...      ...     ...   \n",
      "827         1       2    male   1.00      0      2  37.0042        C  Second   \n",
      "829         1       1  female  62.00      0      0  80.0000        S   First   \n",
      "831         1       2    male   0.83      1      1  18.7500        S  Second   \n",
      "851         0       3    male  74.00      0      0   7.7750        S   Third   \n",
      "879         1       1  female  56.00      0      1  83.1583        C   First   \n",
      "\n",
      "       who  adult_male  embark_town alive  alone  \n",
      "7    child       False  Southampton    no  False  \n",
      "11   woman       False  Southampton   yes   True  \n",
      "15   woman       False  Southampton   yes   True  \n",
      "16   child       False   Queenstown    no  False  \n",
      "33     man        True  Southampton    no   True  \n",
      "..     ...         ...          ...   ...    ...  \n",
      "827  child       False    Cherbourg   yes  False  \n",
      "829  woman       False          NaN   yes   True  \n",
      "831  child       False  Southampton   yes  False  \n",
      "851    man        True  Southampton    no   True  \n",
      "879  woman       False    Cherbourg   yes  False  \n",
      "\n",
      "[66 rows x 14 columns]\n"
     ]
    },
    {
     "data": {
      "image/png": "[encoded data removed]",
      "text/plain": [
       "<Figure size 432x288 with 1 Axes>"
      ]
     },
     "metadata": {
      "needs_background": "light"
     },
     "output_type": "display_data"
    }
   ],
   "source": [
    "column='age'\n",
    "summary_stats = data[column].describe()\n",
    "\n",
    "Q1 = summary_stats['25%']\n",
    "Q3 = summary_stats['75%']\n",
    "IQR = Q3 - Q1\n",
    "\n",
    "lower_threshold = Q1 - 1.5 * IQR\n",
    "upper_threshold = Q3 + 1.5 * IQR\n",
    "\n",
    "outliers = data[(data[column] < lower_threshold) | (data[column] > upper_threshold)]\n",
    "\n",
    "print(\"Outliers in {}: \\n{}\".format(column, outliers))\n",
    "\n",
    "plt.boxplot(data[column], vert=False)\n",
    "plt.title(\"Box plot of {}\".format(column))\n",
    "plt.show()"
   ]
  },
  {
   "cell_type": "code",
   "execution_count": 84,
   "id": "8a4cdf39",
   "metadata": {},
   "outputs": [
    {
     "name": "stdout",
     "output_type": "stream",
     "text": [
      "825\n"
     ]
    }
   ],
   "source": [
    "data_no_outliers = data[(data[column] >= lower_threshold) & (data[column] <= upper_threshold)]\n",
    "\n",
    "print(len(data)-len(outliers))"
   ]
  },
  {
   "cell_type": "code",
   "execution_count": 66,
   "id": "de515487",
   "metadata": {},
   "outputs": [
    {
     "data": {
      "text/html": [
       "<div>\n",
       "<style scoped>\n",
       "    .dataframe tbody tr th:only-of-type {\n",
       "        vertical-align: middle;\n",
       "    }\n",
       "\n",
       "    .dataframe tbody tr th {\n",
       "        vertical-align: top;\n",
       "    }\n",
       "\n",
       "    .dataframe thead th {\n",
       "        text-align: right;\n",
       "    }\n",
       "</style>\n",
       "<table border=\"1\" class=\"dataframe\">\n",
       "  <thead>\n",
       "    <tr style=\"text-align: right;\">\n",
       "      <th></th>\n",
       "      <th>survived</th>\n",
       "      <th>pclass</th>\n",
       "      <th>sex</th>\n",
       "      <th>age</th>\n",
       "      <th>sibsp</th>\n",
       "      <th>parch</th>\n",
       "      <th>fare</th>\n",
       "      <th>embarked</th>\n",
       "      <th>class</th>\n",
       "      <th>who</th>\n",
       "      <th>adult_male</th>\n",
       "      <th>embark_town</th>\n",
       "      <th>alive</th>\n",
       "      <th>alone</th>\n",
       "    </tr>\n",
       "  </thead>\n",
       "  <tbody>\n",
       "    <tr>\n",
       "      <th>0</th>\n",
       "      <td>0</td>\n",
       "      <td>3</td>\n",
       "      <td>male</td>\n",
       "      <td>22.000000</td>\n",
       "      <td>1</td>\n",
       "      <td>0</td>\n",
       "      <td>7.2500</td>\n",
       "      <td>S</td>\n",
       "      <td>Third</td>\n",
       "      <td>man</td>\n",
       "      <td>True</td>\n",
       "      <td>Southampton</td>\n",
       "      <td>no</td>\n",
       "      <td>False</td>\n",
       "    </tr>\n",
       "    <tr>\n",
       "      <th>1</th>\n",
       "      <td>1</td>\n",
       "      <td>1</td>\n",
       "      <td>female</td>\n",
       "      <td>38.000000</td>\n",
       "      <td>1</td>\n",
       "      <td>0</td>\n",
       "      <td>71.2833</td>\n",
       "      <td>C</td>\n",
       "      <td>First</td>\n",
       "      <td>woman</td>\n",
       "      <td>False</td>\n",
       "      <td>Cherbourg</td>\n",
       "      <td>yes</td>\n",
       "      <td>False</td>\n",
       "    </tr>\n",
       "    <tr>\n",
       "      <th>2</th>\n",
       "      <td>1</td>\n",
       "      <td>3</td>\n",
       "      <td>female</td>\n",
       "      <td>26.000000</td>\n",
       "      <td>0</td>\n",
       "      <td>0</td>\n",
       "      <td>7.9250</td>\n",
       "      <td>S</td>\n",
       "      <td>Third</td>\n",
       "      <td>woman</td>\n",
       "      <td>False</td>\n",
       "      <td>Southampton</td>\n",
       "      <td>yes</td>\n",
       "      <td>True</td>\n",
       "    </tr>\n",
       "    <tr>\n",
       "      <th>3</th>\n",
       "      <td>1</td>\n",
       "      <td>1</td>\n",
       "      <td>female</td>\n",
       "      <td>35.000000</td>\n",
       "      <td>1</td>\n",
       "      <td>0</td>\n",
       "      <td>53.1000</td>\n",
       "      <td>S</td>\n",
       "      <td>First</td>\n",
       "      <td>woman</td>\n",
       "      <td>False</td>\n",
       "      <td>Southampton</td>\n",
       "      <td>yes</td>\n",
       "      <td>False</td>\n",
       "    </tr>\n",
       "    <tr>\n",
       "      <th>4</th>\n",
       "      <td>0</td>\n",
       "      <td>3</td>\n",
       "      <td>male</td>\n",
       "      <td>35.000000</td>\n",
       "      <td>0</td>\n",
       "      <td>0</td>\n",
       "      <td>8.0500</td>\n",
       "      <td>S</td>\n",
       "      <td>Third</td>\n",
       "      <td>man</td>\n",
       "      <td>True</td>\n",
       "      <td>Southampton</td>\n",
       "      <td>no</td>\n",
       "      <td>True</td>\n",
       "    </tr>\n",
       "    <tr>\n",
       "      <th>...</th>\n",
       "      <td>...</td>\n",
       "      <td>...</td>\n",
       "      <td>...</td>\n",
       "      <td>...</td>\n",
       "      <td>...</td>\n",
       "      <td>...</td>\n",
       "      <td>...</td>\n",
       "      <td>...</td>\n",
       "      <td>...</td>\n",
       "      <td>...</td>\n",
       "      <td>...</td>\n",
       "      <td>...</td>\n",
       "      <td>...</td>\n",
       "      <td>...</td>\n",
       "    </tr>\n",
       "    <tr>\n",
       "      <th>886</th>\n",
       "      <td>0</td>\n",
       "      <td>2</td>\n",
       "      <td>male</td>\n",
       "      <td>27.000000</td>\n",
       "      <td>0</td>\n",
       "      <td>0</td>\n",
       "      <td>13.0000</td>\n",
       "      <td>S</td>\n",
       "      <td>Second</td>\n",
       "      <td>man</td>\n",
       "      <td>True</td>\n",
       "      <td>Southampton</td>\n",
       "      <td>no</td>\n",
       "      <td>True</td>\n",
       "    </tr>\n",
       "    <tr>\n",
       "      <th>887</th>\n",
       "      <td>1</td>\n",
       "      <td>1</td>\n",
       "      <td>female</td>\n",
       "      <td>19.000000</td>\n",
       "      <td>0</td>\n",
       "      <td>0</td>\n",
       "      <td>30.0000</td>\n",
       "      <td>S</td>\n",
       "      <td>First</td>\n",
       "      <td>woman</td>\n",
       "      <td>False</td>\n",
       "      <td>Southampton</td>\n",
       "      <td>yes</td>\n",
       "      <td>True</td>\n",
       "    </tr>\n",
       "    <tr>\n",
       "      <th>888</th>\n",
       "      <td>0</td>\n",
       "      <td>3</td>\n",
       "      <td>female</td>\n",
       "      <td>29.699118</td>\n",
       "      <td>1</td>\n",
       "      <td>2</td>\n",
       "      <td>23.4500</td>\n",
       "      <td>S</td>\n",
       "      <td>Third</td>\n",
       "      <td>woman</td>\n",
       "      <td>False</td>\n",
       "      <td>Southampton</td>\n",
       "      <td>no</td>\n",
       "      <td>False</td>\n",
       "    </tr>\n",
       "    <tr>\n",
       "      <th>889</th>\n",
       "      <td>1</td>\n",
       "      <td>1</td>\n",
       "      <td>male</td>\n",
       "      <td>26.000000</td>\n",
       "      <td>0</td>\n",
       "      <td>0</td>\n",
       "      <td>30.0000</td>\n",
       "      <td>C</td>\n",
       "      <td>First</td>\n",
       "      <td>man</td>\n",
       "      <td>True</td>\n",
       "      <td>Cherbourg</td>\n",
       "      <td>yes</td>\n",
       "      <td>True</td>\n",
       "    </tr>\n",
       "    <tr>\n",
       "      <th>890</th>\n",
       "      <td>0</td>\n",
       "      <td>3</td>\n",
       "      <td>male</td>\n",
       "      <td>32.000000</td>\n",
       "      <td>0</td>\n",
       "      <td>0</td>\n",
       "      <td>7.7500</td>\n",
       "      <td>Q</td>\n",
       "      <td>Third</td>\n",
       "      <td>man</td>\n",
       "      <td>True</td>\n",
       "      <td>Queenstown</td>\n",
       "      <td>no</td>\n",
       "      <td>True</td>\n",
       "    </tr>\n",
       "  </tbody>\n",
       "</table>\n",
       "<p>825 rows × 14 columns</p>\n",
       "</div>"
      ],
      "text/plain": [
       "     survived  pclass     sex        age  sibsp  parch     fare embarked  \\\n",
       "0           0       3    male  22.000000      1      0   7.2500        S   \n",
       "1           1       1  female  38.000000      1      0  71.2833        C   \n",
       "2           1       3  female  26.000000      0      0   7.9250        S   \n",
       "3           1       1  female  35.000000      1      0  53.1000        S   \n",
       "4           0       3    male  35.000000      0      0   8.0500        S   \n",
       "..        ...     ...     ...        ...    ...    ...      ...      ...   \n",
       "886         0       2    male  27.000000      0      0  13.0000        S   \n",
       "887         1       1  female  19.000000      0      0  30.0000        S   \n",
       "888         0       3  female  29.699118      1      2  23.4500        S   \n",
       "889         1       1    male  26.000000      0      0  30.0000        C   \n",
       "890         0       3    male  32.000000      0      0   7.7500        Q   \n",
       "\n",
       "      class    who  adult_male  embark_town alive  alone  \n",
       "0     Third    man        True  Southampton    no  False  \n",
       "1     First  woman       False    Cherbourg   yes  False  \n",
       "2     Third  woman       False  Southampton   yes   True  \n",
       "3     First  woman       False  Southampton   yes  False  \n",
       "4     Third    man        True  Southampton    no   True  \n",
       "..      ...    ...         ...          ...   ...    ...  \n",
       "886  Second    man        True  Southampton    no   True  \n",
       "887   First  woman       False  Southampton   yes   True  \n",
       "888   Third  woman       False  Southampton    no  False  \n",
       "889   First    man        True    Cherbourg   yes   True  \n",
       "890   Third    man        True   Queenstown    no   True  \n",
       "\n",
       "[825 rows x 14 columns]"
      ]
     },
     "execution_count": 66,
     "metadata": {},
     "output_type": "execute_result"
    }
   ],
   "source": [
    "data_no_outliers"
   ]
  },
  {
   "cell_type": "code",
   "execution_count": 85,
   "id": "9f225623",
   "metadata": {},
   "outputs": [
    {
     "data": {
      "image/png": "[encoded data removed]",
      "text/plain": [
       "<Figure size 432x288 with 1 Axes>"
      ]
     },
     "metadata": {
      "needs_background": "light"
     },
     "output_type": "display_data"
    }
   ],
   "source": [
    "plt.boxplot(data_no_outliers[column], vert=False)\n",
    "plt.title(\"Box plot of {}\".format(column))\n",
    "plt.show()"
   ]
  },
  {
   "cell_type": "markdown",
   "id": "2c2e05b8",
   "metadata": {},
   "source": [
    "----"
   ]
  },
  {
   "cell_type": "markdown",
   "id": "c0550468",
   "metadata": {},
   "source": [
    "7. Check for Categorical Columns and Perform Encoding"
   ]
  },
  {
   "cell_type": "code",
   "execution_count": 86,
   "id": "22db4849",
   "metadata": {},
   "outputs": [
    {
     "data": {
      "text/html": [
       "<div>\n",
       "<style scoped>\n",
       "    .dataframe tbody tr th:only-of-type {\n",
       "        vertical-align: middle;\n",
       "    }\n",
       "\n",
       "    .dataframe tbody tr th {\n",
       "        vertical-align: top;\n",
       "    }\n",
       "\n",
       "    .dataframe thead th {\n",
       "        text-align: right;\n",
       "    }\n",
       "</style>\n",
       "<table border=\"1\" class=\"dataframe\">\n",
       "  <thead>\n",
       "    <tr style=\"text-align: right;\">\n",
       "      <th></th>\n",
       "      <th>survived</th>\n",
       "      <th>pclass</th>\n",
       "      <th>age</th>\n",
       "      <th>sibsp</th>\n",
       "      <th>parch</th>\n",
       "      <th>fare</th>\n",
       "      <th>alive</th>\n",
       "      <th>sex_female</th>\n",
       "      <th>sex_male</th>\n",
       "      <th>embarked_C</th>\n",
       "      <th>...</th>\n",
       "      <th>who_child</th>\n",
       "      <th>who_man</th>\n",
       "      <th>who_woman</th>\n",
       "      <th>adult_male_False</th>\n",
       "      <th>adult_male_True</th>\n",
       "      <th>embark_town_Cherbourg</th>\n",
       "      <th>embark_town_Queenstown</th>\n",
       "      <th>embark_town_Southampton</th>\n",
       "      <th>alone_False</th>\n",
       "      <th>alone_True</th>\n",
       "    </tr>\n",
       "  </thead>\n",
       "  <tbody>\n",
       "    <tr>\n",
       "      <th>0</th>\n",
       "      <td>0</td>\n",
       "      <td>3</td>\n",
       "      <td>22.000000</td>\n",
       "      <td>1</td>\n",
       "      <td>0</td>\n",
       "      <td>7.2500</td>\n",
       "      <td>no</td>\n",
       "      <td>0</td>\n",
       "      <td>1</td>\n",
       "      <td>0</td>\n",
       "      <td>...</td>\n",
       "      <td>0</td>\n",
       "      <td>1</td>\n",
       "      <td>0</td>\n",
       "      <td>0</td>\n",
       "      <td>1</td>\n",
       "      <td>0</td>\n",
       "      <td>0</td>\n",
       "      <td>1</td>\n",
       "      <td>1</td>\n",
       "      <td>0</td>\n",
       "    </tr>\n",
       "    <tr>\n",
       "      <th>1</th>\n",
       "      <td>1</td>\n",
       "      <td>1</td>\n",
       "      <td>38.000000</td>\n",
       "      <td>1</td>\n",
       "      <td>0</td>\n",
       "      <td>71.2833</td>\n",
       "      <td>yes</td>\n",
       "      <td>1</td>\n",
       "      <td>0</td>\n",
       "      <td>1</td>\n",
       "      <td>...</td>\n",
       "      <td>0</td>\n",
       "      <td>0</td>\n",
       "      <td>1</td>\n",
       "      <td>1</td>\n",
       "      <td>0</td>\n",
       "      <td>1</td>\n",
       "      <td>0</td>\n",
       "      <td>0</td>\n",
       "      <td>1</td>\n",
       "      <td>0</td>\n",
       "    </tr>\n",
       "    <tr>\n",
       "      <th>2</th>\n",
       "      <td>1</td>\n",
       "      <td>3</td>\n",
       "      <td>26.000000</td>\n",
       "      <td>0</td>\n",
       "      <td>0</td>\n",
       "      <td>7.9250</td>\n",
       "      <td>yes</td>\n",
       "      <td>1</td>\n",
       "      <td>0</td>\n",
       "      <td>0</td>\n",
       "      <td>...</td>\n",
       "      <td>0</td>\n",
       "      <td>0</td>\n",
       "      <td>1</td>\n",
       "      <td>1</td>\n",
       "      <td>0</td>\n",
       "      <td>0</td>\n",
       "      <td>0</td>\n",
       "      <td>1</td>\n",
       "      <td>0</td>\n",
       "      <td>1</td>\n",
       "    </tr>\n",
       "    <tr>\n",
       "      <th>3</th>\n",
       "      <td>1</td>\n",
       "      <td>1</td>\n",
       "      <td>35.000000</td>\n",
       "      <td>1</td>\n",
       "      <td>0</td>\n",
       "      <td>53.1000</td>\n",
       "      <td>yes</td>\n",
       "      <td>1</td>\n",
       "      <td>0</td>\n",
       "      <td>0</td>\n",
       "      <td>...</td>\n",
       "      <td>0</td>\n",
       "      <td>0</td>\n",
       "      <td>1</td>\n",
       "      <td>1</td>\n",
       "      <td>0</td>\n",
       "      <td>0</td>\n",
       "      <td>0</td>\n",
       "      <td>1</td>\n",
       "      <td>1</td>\n",
       "      <td>0</td>\n",
       "    </tr>\n",
       "    <tr>\n",
       "      <th>4</th>\n",
       "      <td>0</td>\n",
       "      <td>3</td>\n",
       "      <td>35.000000</td>\n",
       "      <td>0</td>\n",
       "      <td>0</td>\n",
       "      <td>8.0500</td>\n",
       "      <td>no</td>\n",
       "      <td>0</td>\n",
       "      <td>1</td>\n",
       "      <td>0</td>\n",
       "      <td>...</td>\n",
       "      <td>0</td>\n",
       "      <td>1</td>\n",
       "      <td>0</td>\n",
       "      <td>0</td>\n",
       "      <td>1</td>\n",
       "      <td>0</td>\n",
       "      <td>0</td>\n",
       "      <td>1</td>\n",
       "      <td>0</td>\n",
       "      <td>1</td>\n",
       "    </tr>\n",
       "    <tr>\n",
       "      <th>...</th>\n",
       "      <td>...</td>\n",
       "      <td>...</td>\n",
       "      <td>...</td>\n",
       "      <td>...</td>\n",
       "      <td>...</td>\n",
       "      <td>...</td>\n",
       "      <td>...</td>\n",
       "      <td>...</td>\n",
       "      <td>...</td>\n",
       "      <td>...</td>\n",
       "      <td>...</td>\n",
       "      <td>...</td>\n",
       "      <td>...</td>\n",
       "      <td>...</td>\n",
       "      <td>...</td>\n",
       "      <td>...</td>\n",
       "      <td>...</td>\n",
       "      <td>...</td>\n",
       "      <td>...</td>\n",
       "      <td>...</td>\n",
       "      <td>...</td>\n",
       "    </tr>\n",
       "    <tr>\n",
       "      <th>886</th>\n",
       "      <td>0</td>\n",
       "      <td>2</td>\n",
       "      <td>27.000000</td>\n",
       "      <td>0</td>\n",
       "      <td>0</td>\n",
       "      <td>13.0000</td>\n",
       "      <td>no</td>\n",
       "      <td>0</td>\n",
       "      <td>1</td>\n",
       "      <td>0</td>\n",
       "      <td>...</td>\n",
       "      <td>0</td>\n",
       "      <td>1</td>\n",
       "      <td>0</td>\n",
       "      <td>0</td>\n",
       "      <td>1</td>\n",
       "      <td>0</td>\n",
       "      <td>0</td>\n",
       "      <td>1</td>\n",
       "      <td>0</td>\n",
       "      <td>1</td>\n",
       "    </tr>\n",
       "    <tr>\n",
       "      <th>887</th>\n",
       "      <td>1</td>\n",
       "      <td>1</td>\n",
       "      <td>19.000000</td>\n",
       "      <td>0</td>\n",
       "      <td>0</td>\n",
       "      <td>30.0000</td>\n",
       "      <td>yes</td>\n",
       "      <td>1</td>\n",
       "      <td>0</td>\n",
       "      <td>0</td>\n",
       "      <td>...</td>\n",
       "      <td>0</td>\n",
       "      <td>0</td>\n",
       "      <td>1</td>\n",
       "      <td>1</td>\n",
       "      <td>0</td>\n",
       "      <td>0</td>\n",
       "      <td>0</td>\n",
       "      <td>1</td>\n",
       "      <td>0</td>\n",
       "      <td>1</td>\n",
       "    </tr>\n",
       "    <tr>\n",
       "      <th>888</th>\n",
       "      <td>0</td>\n",
       "      <td>3</td>\n",
       "      <td>29.699118</td>\n",
       "      <td>1</td>\n",
       "      <td>2</td>\n",
       "      <td>23.4500</td>\n",
       "      <td>no</td>\n",
       "      <td>1</td>\n",
       "      <td>0</td>\n",
       "      <td>0</td>\n",
       "      <td>...</td>\n",
       "      <td>0</td>\n",
       "      <td>0</td>\n",
       "      <td>1</td>\n",
       "      <td>1</td>\n",
       "      <td>0</td>\n",
       "      <td>0</td>\n",
       "      <td>0</td>\n",
       "      <td>1</td>\n",
       "      <td>1</td>\n",
       "      <td>0</td>\n",
       "    </tr>\n",
       "    <tr>\n",
       "      <th>889</th>\n",
       "      <td>1</td>\n",
       "      <td>1</td>\n",
       "      <td>26.000000</td>\n",
       "      <td>0</td>\n",
       "      <td>0</td>\n",
       "      <td>30.0000</td>\n",
       "      <td>yes</td>\n",
       "      <td>0</td>\n",
       "      <td>1</td>\n",
       "      <td>1</td>\n",
       "      <td>...</td>\n",
       "      <td>0</td>\n",
       "      <td>1</td>\n",
       "      <td>0</td>\n",
       "      <td>0</td>\n",
       "      <td>1</td>\n",
       "      <td>1</td>\n",
       "      <td>0</td>\n",
       "      <td>0</td>\n",
       "      <td>0</td>\n",
       "      <td>1</td>\n",
       "    </tr>\n",
       "    <tr>\n",
       "      <th>890</th>\n",
       "      <td>0</td>\n",
       "      <td>3</td>\n",
       "      <td>32.000000</td>\n",
       "      <td>0</td>\n",
       "      <td>0</td>\n",
       "      <td>7.7500</td>\n",
       "      <td>no</td>\n",
       "      <td>0</td>\n",
       "      <td>1</td>\n",
       "      <td>0</td>\n",
       "      <td>...</td>\n",
       "      <td>0</td>\n",
       "      <td>1</td>\n",
       "      <td>0</td>\n",
       "      <td>0</td>\n",
       "      <td>1</td>\n",
       "      <td>0</td>\n",
       "      <td>1</td>\n",
       "      <td>0</td>\n",
       "      <td>0</td>\n",
       "      <td>1</td>\n",
       "    </tr>\n",
       "  </tbody>\n",
       "</table>\n",
       "<p>825 rows × 25 columns</p>\n",
       "</div>"
      ],
      "text/plain": [
       "     survived  pclass        age  sibsp  parch     fare alive  sex_female  \\\n",
       "0           0       3  22.000000      1      0   7.2500    no           0   \n",
       "1           1       1  38.000000      1      0  71.2833   yes           1   \n",
       "2           1       3  26.000000      0      0   7.9250   yes           1   \n",
       "3           1       1  35.000000      1      0  53.1000   yes           1   \n",
       "4           0       3  35.000000      0      0   8.0500    no           0   \n",
       "..        ...     ...        ...    ...    ...      ...   ...         ...   \n",
       "886         0       2  27.000000      0      0  13.0000    no           0   \n",
       "887         1       1  19.000000      0      0  30.0000   yes           1   \n",
       "888         0       3  29.699118      1      2  23.4500    no           1   \n",
       "889         1       1  26.000000      0      0  30.0000   yes           0   \n",
       "890         0       3  32.000000      0      0   7.7500    no           0   \n",
       "\n",
       "     sex_male  embarked_C  ...  who_child  who_man  who_woman  \\\n",
       "0           1           0  ...          0        1          0   \n",
       "1           0           1  ...          0        0          1   \n",
       "2           0           0  ...          0        0          1   \n",
       "3           0           0  ...          0        0          1   \n",
       "4           1           0  ...          0        1          0   \n",
       "..        ...         ...  ...        ...      ...        ...   \n",
       "886         1           0  ...          0        1          0   \n",
       "887         0           0  ...          0        0          1   \n",
       "888         0           0  ...          0        0          1   \n",
       "889         1           1  ...          0        1          0   \n",
       "890         1           0  ...          0        1          0   \n",
       "\n",
       "     adult_male_False  adult_male_True  embark_town_Cherbourg  \\\n",
       "0                   0                1                      0   \n",
       "1                   1                0                      1   \n",
       "2                   1                0                      0   \n",
       "3                   1                0                      0   \n",
       "4                   0                1                      0   \n",
       "..                ...              ...                    ...   \n",
       "886                 0                1                      0   \n",
       "887                 1                0                      0   \n",
       "888                 1                0                      0   \n",
       "889                 0                1                      1   \n",
       "890                 0                1                      0   \n",
       "\n",
       "     embark_town_Queenstown  embark_town_Southampton  alone_False  alone_True  \n",
       "0                         0                        1            1           0  \n",
       "1                         0                        0            1           0  \n",
       "2                         0                        1            0           1  \n",
       "3                         0                        1            1           0  \n",
       "4                         0                        1            0           1  \n",
       "..                      ...                      ...          ...         ...  \n",
       "886                       0                        1            0           1  \n",
       "887                       0                        1            0           1  \n",
       "888                       0                        1            1           0  \n",
       "889                       0                        0            0           1  \n",
       "890                       1                        0            0           1  \n",
       "\n",
       "[825 rows x 25 columns]"
      ]
     },
     "execution_count": 86,
     "metadata": {},
     "output_type": "execute_result"
    }
   ],
   "source": [
    "from sklearn.preprocessing import LabelEncoder\n",
    "categorical_cols=['sex','embarked','class','who','adult_male','embark_town','alone']\n",
    "\n",
    "encoded_data = pd.get_dummies(data=data_no_outliers, columns=categorical_cols)\n",
    "\n",
    "encoded_data"
   ]
  },
  {
   "cell_type": "markdown",
   "id": "4064e3c7",
   "metadata": {},
   "source": [
    "----"
   ]
  },
  {
   "cell_type": "markdown",
   "id": "f481b5ac",
   "metadata": {},
   "source": [
    "8. Split Data into Dependent and Independent Variables"
   ]
  },
  {
   "cell_type": "code",
   "execution_count": 87,
   "id": "1252d2a1",
   "metadata": {},
   "outputs": [
    {
     "name": "stdout",
     "output_type": "stream",
     "text": [
      "Independent Variables\n",
      "\n",
      "   survived  pclass   age  sibsp  parch     fare  sex_female  sex_male  \\\n",
      "0         0       3  22.0      1      0   7.2500           0         1   \n",
      "1         1       1  38.0      1      0  71.2833           1         0   \n",
      "2         1       3  26.0      0      0   7.9250           1         0   \n",
      "3         1       1  35.0      1      0  53.1000           1         0   \n",
      "4         0       3  35.0      0      0   8.0500           0         1   \n",
      "\n",
      "   embarked_C  embarked_Q  ...  who_child  who_man  who_woman  \\\n",
      "0           0           0  ...          0        1          0   \n",
      "1           1           0  ...          0        0          1   \n",
      "2           0           0  ...          0        0          1   \n",
      "3           0           0  ...          0        0          1   \n",
      "4           0           0  ...          0        1          0   \n",
      "\n",
      "   adult_male_False  adult_male_True  embark_town_Cherbourg  \\\n",
      "0                 0                1                      0   \n",
      "1                 1                0                      1   \n",
      "2                 1                0                      0   \n",
      "3                 1                0                      0   \n",
      "4                 0                1                      0   \n",
      "\n",
      "   embark_town_Queenstown  embark_town_Southampton  alone_False  alone_True  \n",
      "0                       0                        1            1           0  \n",
      "1                       0                        0            1           0  \n",
      "2                       0                        1            0           1  \n",
      "3                       0                        1            1           0  \n",
      "4                       0                        1            0           1  \n",
      "\n",
      "[5 rows x 24 columns]\n",
      "\n",
      "Dependent Variable\n",
      "\n",
      "0     no\n",
      "1    yes\n",
      "2    yes\n",
      "3    yes\n",
      "4     no\n",
      "Name: alive, dtype: object\n"
     ]
    }
   ],
   "source": [
    "dependent_variable = 'alive'\n",
    "y = encoded_data[dependent_variable]\n",
    "\n",
    "independent_variables = encoded_data.drop(dependent_variable, axis=1)\n",
    "\n",
    "print('Independent Variables\\n')\n",
    "print(independent_variables.head())\n",
    "print('\\nDependent Variable\\n')\n",
    "print(y.head())"
   ]
  },
  {
   "cell_type": "markdown",
   "id": "af95c936",
   "metadata": {},
   "source": [
    "----"
   ]
  },
  {
   "cell_type": "markdown",
   "id": "506813bd",
   "metadata": {},
   "source": [
    "9. Scale the Independent Variables"
   ]
  },
  {
   "cell_type": "code",
   "execution_count": 88,
   "id": "d439eddd",
   "metadata": {},
   "outputs": [
    {
     "name": "stdout",
     "output_type": "stream",
     "text": [
      "   survived  pclass       age  sibsp  parch      fare  sex_female  sex_male  \\\n",
      "0       0.0     1.0  0.372549  0.125    0.0  0.014151         0.0       1.0   \n",
      "1       1.0     0.0  0.686275  0.125    0.0  0.139136         1.0       0.0   \n",
      "2       1.0     1.0  0.450980  0.000    0.0  0.015469         1.0       0.0   \n",
      "3       1.0     0.0  0.627451  0.125    0.0  0.103644         1.0       0.0   \n",
      "4       0.0     1.0  0.627451  0.000    0.0  0.015713         0.0       1.0   \n",
      "\n",
      "   embarked_C  embarked_Q  ...  who_child  who_man  who_woman  \\\n",
      "0         0.0         0.0  ...        0.0      1.0        0.0   \n",
      "1         1.0         0.0  ...        0.0      0.0        1.0   \n",
      "2         0.0         0.0  ...        0.0      0.0        1.0   \n",
      "3         0.0         0.0  ...        0.0      0.0        1.0   \n",
      "4         0.0         0.0  ...        0.0      1.0        0.0   \n",
      "\n",
      "   adult_male_False  adult_male_True  embark_town_Cherbourg  \\\n",
      "0               0.0              1.0                    0.0   \n",
      "1               1.0              0.0                    1.0   \n",
      "2               1.0              0.0                    0.0   \n",
      "3               1.0              0.0                    0.0   \n",
      "4               0.0              1.0                    0.0   \n",
      "\n",
      "   embark_town_Queenstown  embark_town_Southampton  alone_False  alone_True  \n",
      "0                     0.0                      1.0          1.0         0.0  \n",
      "1                     0.0                      0.0          1.0         0.0  \n",
      "2                     0.0                      1.0          0.0         1.0  \n",
      "3                     0.0                      1.0          1.0         0.0  \n",
      "4                     0.0                      1.0          0.0         1.0  \n",
      "\n",
      "[5 rows x 24 columns]\n"
     ]
    }
   ],
   "source": [
    "from sklearn.preprocessing import MinMaxScaler\n",
    "\n",
    "scaler = MinMaxScaler()\n",
    "scaled_independent_variables = scaler.fit_transform(independent_variables)\n",
    "\n",
    "scaled_data = pd.DataFrame(scaled_independent_variables, columns=independent_variables.columns)\n",
    "\n",
    "print(scaled_data.head())"
   ]
  },
  {
   "cell_type": "markdown",
   "id": "7bfd7f67",
   "metadata": {},
   "source": [
    "----"
   ]
  },
  {
   "cell_type": "markdown",
   "id": "72739e0b",
   "metadata": {},
   "source": [
    "10. Split Data into Training and Testing"
   ]
  },
  {
   "cell_type": "code",
   "execution_count": 93,
   "id": "c25c6e5b",
   "metadata": {},
   "outputs": [
    {
     "name": "stdout",
     "output_type": "stream",
     "text": [
      "Shape of X_train: (660, 24)\n",
      "Shape of X_test: (165, 24)\n",
      "Shape of y_train: (660,)\n",
      "Shape of y_test: (165,)\n"
     ]
    }
   ],
   "source": [
    "from sklearn.model_selection import train_test_split\n",
    "\n",
    "X_train, X_test, y_train, y_test = train_test_split(scaled_data, y, test_size=0.2, random_state=42)\n",
    "\n",
    "print(\"Shape of X_train:\", X_train.shape)\n",
    "print(\"Shape of X_test:\", X_test.shape)\n",
    "print(\"Shape of y_train:\", y_train.shape)\n",
    "print(\"Shape of y_test:\", y_test.shape)\n"
   ]
  },
  {
   "cell_type": "markdown",
   "id": "680e67a7",
   "metadata": {},
   "source": [
    "----"
   ]
  },
  {
   "cell_type": "markdown",
   "id": "c6708106",
   "metadata": {},
   "source": [
    "<center> xxxx </center>"
   ]
  },
  {
   "cell_type": "code",
   "execution_count": null,
   "id": "8a78d000",
   "metadata": {},
   "outputs": [],
   "source": []
  }
 ],
 "metadata": {
  "kernelspec": {
   "display_name": "Python 3 (ipykernel)",
   "language": "python",
   "name": "python3"
  },
  "language_info": {
   "codemirror_mode": {
    "name": "ipython",
    "version": 3
   },
   "file_extension": ".py",
   "mimetype": "text/x-python",
   "name": "python",
   "nbconvert_exporter": "python",
   "pygments_lexer": "ipython3",
   "version": "3.9.7"
  }
 },
 "nbformat": 4,
 "nbformat_minor": 5
}
